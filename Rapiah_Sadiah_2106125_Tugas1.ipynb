{
  "nbformat": 4,
  "nbformat_minor": 0,
  "metadata": {
    "colab": {
      "provenance": []
    },
    "kernelspec": {
      "name": "python3",
      "display_name": "Python 3"
    },
    "language_info": {
      "name": "python"
    }
  },
  "cells": [
    {
      "cell_type": "markdown",
      "source": [
        "Breadth First Search(BFS)"
      ],
      "metadata": {
        "id": "BFzkWMtMGJPO"
      }
    },
    {
      "cell_type": "code",
      "execution_count": 7,
      "metadata": {
        "colab": {
          "base_uri": "https://localhost:8080/"
        },
        "id": "q_PpVJxgFdlq",
        "outputId": "b2ef3299-6e94-4943-8cfb-f216dc660e1e"
      },
      "outputs": [
        {
          "output_type": "stream",
          "name": "stdout",
          "text": [
            "BFS: ['A']\n"
          ]
        }
      ],
      "source": [
        "def bfs(graph, source):\n",
        "  visited = set()\n",
        "  bfs_traversal = list()\n",
        "  queue = list()\n",
        "  queue.append(source)\n",
        "  visited.add(source)\n",
        "\n",
        "  while queue:\n",
        "      current_node = queue.pop(0)\n",
        "      bfs_traversal.append(current_node)\n",
        "\n",
        "      for neighbour_node in graph[current_node]:\n",
        "          if neighbour_node not in visited:\n",
        "              visited.add(neighbour_node)\n",
        "              queue.append(neighbour_node)\n",
        "\n",
        "      return bfs_traversal\n",
        "\n",
        "def main():\n",
        "  graph ={\n",
        "      'A' : ['B', 'C'],\n",
        "      'B' : ['A', 'D', 'E'],\n",
        "      'C' : ['A', 'F', 'G'],\n",
        "      'D' : ['B'],\n",
        "      'E' : ['B'],\n",
        "      'F' : ['C'],\n",
        "      'G' : ['C']\n",
        "  }\n",
        "\n",
        "  bfs_traversal = bfs(graph, 'A')\n",
        "  print(f\"BFS: {bfs_traversal}\")\n",
        "\n",
        "if __name__=='__main__':\n",
        "    main()"
      ]
    },
    {
      "cell_type": "markdown",
      "source": [
        "Depth First Search(DFS)"
      ],
      "metadata": {
        "id": "H0O2P_v3OLlV"
      }
    },
    {
      "cell_type": "code",
      "source": [
        "def dfs(graph, source, visited, dfs_traversal):\n",
        "    if source not in visited:\n",
        "        dfs_traversal.append(source)\n",
        "        visited.add(source)\n",
        "\n",
        "        for neighbor_node in graph[source]:\n",
        "            dfs(graph, neighbor_node, visited, dfs_traversal)\n",
        "    return dfs_traversal\n",
        "\n",
        "def main():\n",
        "  visited = set()\n",
        "  dfs_traversal = list()\n",
        "\n",
        "  graph ={\n",
        "      'A': ['B', 'C'],\n",
        "      'B': ['D', 'E'],\n",
        "      'C': ['F', 'G'],\n",
        "      'D': [],\n",
        "      'E': [],\n",
        "      'F': [],\n",
        "      'G': []\n",
        "  }\n",
        "\n",
        "  print(f\"DFS: {dfs(graph, 'A', visited, dfs_traversal)}\")\n",
        "\n",
        "if __name__==\"__main__\":\n",
        "    main()"
      ],
      "metadata": {
        "colab": {
          "base_uri": "https://localhost:8080/"
        },
        "id": "xlPx3NxYOVkA",
        "outputId": "ad377a8f-b38d-4325-f156-880b80b32000"
      },
      "execution_count": 8,
      "outputs": [
        {
          "output_type": "stream",
          "name": "stdout",
          "text": [
            "DFS: ['A', 'B', 'D', 'E', 'C', 'F', 'G']\n"
          ]
        }
      ]
    },
    {
      "cell_type": "markdown",
      "source": [
        "Uniform Cost Search(UCS)"
      ],
      "metadata": {
        "id": "KuMGn14jQ_Zv"
      }
    },
    {
      "cell_type": "code",
      "source": [
        "def uniform_cost_search(goal, start):\n",
        "\n",
        "  global graph,cost\n",
        "  answer = []\n",
        "\n",
        "  queue = []\n",
        "  for i in range(len(goal)):\n",
        "    answer.append(10**8)\n",
        "  queue.append([0, start])\n",
        "  visited = {}\n",
        "  count = 0\n",
        "\n",
        "  while (len(queue) > 0):\n",
        "\n",
        "      queue = sorted(queue)\n",
        "      p = queue[-1]\n",
        "      del queue[-1]\n",
        "      p[0] *= -1\n",
        "      \n",
        "      if (p[1] in goal):\n",
        "\n",
        "        index = goal.index(p[1])\n",
        "        if (answer[index] == 10**8):\n",
        "          count += 1\n",
        "\n",
        "        if (answer[index] > [0]):\n",
        "          answer[index] = p[0]\n",
        "        \n",
        "        del queue[-1]\n",
        "\n",
        "        queue = sorted(queue)\n",
        "        if (count == len(goal)):\n",
        "          return answer\n",
        "\n",
        "      if (p[1] not in visited):\n",
        "        for i in range(len(graph[p[1]])):\n",
        "\n",
        "            queue.append( [(p[0] + cost[(p[1], graph[p[1]][i])])* -1, graph[p[1]][i]])\n",
        "\n",
        "        visited[p[1]] = 1\n",
        "      return answer\n",
        "\n",
        "if __name__== '__main__':\n",
        "  graph,cost = [[] for i in range(8)],{}\n",
        "\n",
        "  graph[0].append(1)\n",
        "  graph[0].append(3)\n",
        "  graph[3].append(1)\n",
        "  graph[3].append(6)\n",
        "  graph[3].append(4)\n",
        "  graph[1].append(6)\n",
        "  graph[4].append(2)\n",
        "  graph[4].append(5)\n",
        "  graph[2].append(1)\n",
        "  graph[5].append(2)\n",
        "  graph[5].append(6)\n",
        "  graph[6].append(4)\n",
        "\n",
        "  cost[(0, 1)] = 2\n",
        "  cost[(0, 3)] = 5\n",
        "  cost[(1, 6)] = 1\n",
        "  cost[(3, 1)] = 5\n",
        "  cost[(3, 6)] = 6\n",
        "  cost[(3, 4)] = 2\n",
        "  cost[(2, 1)] = 4\n",
        "  cost[(4, 2)] = 4\n",
        "  cost[(4, 5)] = 3\n",
        "  cost[(5, 2)] = 6\n",
        "  cost[(5, 6)] = 3\n",
        "  cost[(6, 4)] = 7\n",
        "\n",
        "  goal =[]\n",
        "\n",
        "  goal.append(6)\n",
        "  answer = uniform_cost_search(goal, 0)\n",
        "\n",
        "  print(\"Minimum cost from 0 to 6 is = \",answer[0])"
      ],
      "metadata": {
        "colab": {
          "base_uri": "https://localhost:8080/"
        },
        "id": "f_CPHtbHREEX",
        "outputId": "d09196e0-0625-44e2-be8d-0a55e252d26b"
      },
      "execution_count": 9,
      "outputs": [
        {
          "output_type": "stream",
          "name": "stdout",
          "text": [
            "Minimum cost from 0 to 6 is =  100000000\n"
          ]
        }
      ]
    },
    {
      "cell_type": "markdown",
      "source": [
        "Iterative Deepening Depth First Search"
      ],
      "metadata": {
        "id": "Kfi4Tu0Kerya"
      }
    },
    {
      "cell_type": "code",
      "source": [
        "from collections import defaultdict\n",
        "class Graph:\n",
        "  def __init__(self,vertices):\n",
        "    self.v =vertices\n",
        "    self.graph = defaultdict(list)\n",
        "  def addEdge(self,u,v):\n",
        "    self.graph[u].append(v)\n",
        "  def DLS(self,src,target,maxDepth):\n",
        "    if src == target : return True\n",
        "    if maxDepth <= 0 : return False\n",
        "    for i in self.graph[src]:\n",
        "        if(self.DLS(i,target,maxDepth)):\n",
        "          return True\n",
        "    return False\n",
        "  def IDDFS(self,src, target, maxDepth):\n",
        "    for i in range(maxDepth):\n",
        "      if (self.DLS(src, target, i)):\n",
        "        return\n",
        "    return False\n",
        "\n",
        "g = Graph (7);\n",
        "g.addEdge(0, 1)\n",
        "g.addEdge(0, 2)\n",
        "g.addEdge(0, 4)\n",
        "g.addEdge(1, 3)\n",
        "g.addEdge(1, 5)\n",
        "g.addEdge(2, 6)\n",
        "\n",
        "target = 6; maxDepth = 3; src = 0\n",
        "  \n",
        "if g.IDDFS(src, target, maxDepth) == True:\n",
        "    print (\"Target is reachable from source \" +\n",
        "           \"within max depth\")\n",
        "else :\n",
        "    print (\"Target is NOT reachable from source \" +\n",
        "           \"within max depth\")"
      ],
      "metadata": {
        "colab": {
          "base_uri": "https://localhost:8080/"
        },
        "id": "MPCKJvhRe9So",
        "outputId": "5416e50b-6590-4ce4-97b4-ce43d61f8f27"
      },
      "execution_count": 12,
      "outputs": [
        {
          "output_type": "stream",
          "name": "stdout",
          "text": [
            "Target is NOT reachable from source within max depth\n"
          ]
        }
      ]
    },
    {
      "cell_type": "markdown",
      "source": [
        "Bidirectional Search"
      ],
      "metadata": {
        "id": "NZh36xnck2A7"
      }
    },
    {
      "cell_type": "code",
      "source": [
        "class AdjacentNode:\n",
        "\n",
        "    def __init__(self, vertex):\n",
        "\n",
        "        self.vertex = vertex\n",
        "        self.next = None\n",
        "        \n",
        "class BidirectionalSearch:\n",
        "\n",
        "    def __init__(self, vertices):\n",
        "        self.vertices = vertices\n",
        "        self.graph = [None] * self.vertices\n",
        "        self.src_queue = list()\n",
        "        self.dest_queue = list()\n",
        "        self.src_visited = [False] * self.vertices\n",
        "        self.dest_visited = [False] * self.vertices\n",
        "        self.src_parent = [None] * self.vertices\n",
        "        self.dest_parent = [None] * self.vertices\n",
        "        \n",
        "    def add_edge(self, src, dest):\n",
        "        node = AdjacentNode(dest)\n",
        "        node.next = self.graph[src]\n",
        "        self.graph[src] = node\n",
        "        \n",
        "    def bfs(self, direction='forward'):\n",
        "        if direction == 'forward':\n",
        "            current = self.src_queue.pop(0)\n",
        "            connected_node = self.graph[current]\n",
        "            while connected_node:\n",
        "                vertex = connected_node.vertex\n",
        "                if not self.src_visited[vertex]:\n",
        "                    self.src_queue.append(vertex)\n",
        "                    self.src_visited[vertex] = True\n",
        "                    self.src_parent[vertex] = current\n",
        "                connected_node = connected_node.next\n",
        "        else:\n",
        "            current = self.dest_queue.pop(0)\n",
        "            connected_node = self.graph[current]\n",
        "            while connected_node:\n",
        "                vertex = connected_node.vertex\n",
        "                if not self.dest_visited[vertex]:\n",
        "                    self.dest_queue.append(vertex)\n",
        "                    self.dest_visited[vertex] = True\n",
        "                    self.dest_parent[vertex] = current\n",
        "                connected_node = connected_node.next\n",
        "                \n",
        "    def is_intersecting(self):\n",
        "        for i in range(self.vertices):\n",
        "            if self.src_visited[i] and self.dest_visited[i]:\n",
        "                return i\n",
        "        return -1\n",
        "        \n",
        "    def print_path(self, intersecting_node, src, dest):\n",
        "        path = list()\n",
        "        path.append(intersecting_node)\n",
        "        i = intersecting_node\n",
        "        while i != src:\n",
        "            path.append(self.src_parent[i])\n",
        "            i = self.src_parent[i]\n",
        "        path = path[::-1]\n",
        "        i = intersecting_node\n",
        "        while i != dest:\n",
        "            path.append(self.dest_parent[i])\n",
        "            i = self.dest_parent[i]\n",
        "        print(\"*****path*****\")\n",
        "        print(\" -> \".join(map(str, path)))\n",
        "        \n",
        "    def bidirectional_search(self, src, dest):\n",
        "        self.src_queue.append(src)\n",
        "        self.src_visited[src] = True\n",
        "        self.src_parent[src] = -1\n",
        "        self.dest_queue.append(dest)\n",
        "        self.dest_visited[dest] = True\n",
        "        self.dest_parent[dest] = -1\n",
        "        while self.src_queue and self.dest_queue:\n",
        "            self.bfs(direction='forward')\n",
        "            self.bfs(direction='backward')\n",
        "            intersecting_node = self.is_intersecting()\n",
        "            if intersecting_node != -1:\n",
        "                print(f\"path exists between {src} and {dest}\")\n",
        "                print(f\"intersection at: {intersecting_node}\")\n",
        "                self.print_path(intersecting_node, src, dest)\n",
        "                return -1\n",
        "        print(f\"path does not exist between {src} and {dest}\")\n",
        "\n",
        "if __name__ == '__main__':\n",
        "    n = 15\n",
        "    src = 0\n",
        "    dest = 6\n",
        "    graph = BidirectionalSearch(n)\n",
        "    graph.add_edge(0, 4)\n",
        "    graph.add_edge(1, 4)\n",
        "    graph.add_edge(2, 5)\n",
        "    graph.add_edge(3, 5)\n",
        "    graph.add_edge(4, 6)\n",
        "    graph.add_edge(5, 6)\n",
        "    graph.add_edge(6, 7)\n",
        "    graph.add_edge(7, 8)\n",
        "    graph.add_edge(8, 9)\n",
        "    graph.add_edge(8, 10)\n",
        "    graph.add_edge(9, 11)\n",
        "    graph.add_edge(9, 12)\n",
        "    graph.add_edge(10, 13)\n",
        "    graph.add_edge(10, 14)\n",
        "\n",
        "out = graph.bidirectional_search(src, dest)\n",
        "\n",
        "if out == -1:\n",
        "  print(f\"path does not exist between {src} and {dest}\")"
      ],
      "metadata": {
        "colab": {
          "base_uri": "https://localhost:8080/"
        },
        "id": "IDDIPetpk7QJ",
        "outputId": "0898f330-d415-4488-8534-e1f0030c624b"
      },
      "execution_count": 13,
      "outputs": [
        {
          "output_type": "stream",
          "name": "stdout",
          "text": [
            "path exists between 0 and 6\n",
            "intersection at: 6\n",
            "*****path*****\n",
            "0 -> 4 -> 6\n",
            "path does not exist between 0 and 6\n"
          ]
        }
      ]
    },
    {
      "cell_type": "markdown",
      "source": [
        "Tugas-01"
      ],
      "metadata": {
        "id": "AXwDz7uWp95h"
      }
    },
    {
      "cell_type": "code",
      "source": [
        "def blind_search(start, goal, graph):\n",
        "    \"\"\"\n",
        "    Fungsi untuk menjalankan algoritma blind searching\n",
        "    dan mencari jalur terpendek antara simpul awal dan simpul tujuan.\n",
        "    Args:\n",
        "        start (str): Simpul awal.\n",
        "        goal (str): Simpul tujuan.\n",
        "        graph (dict): Struktur jaringan dalam bentuk dictionary.\n",
        "    Returns:\n",
        "        list: Jalur terpendek antara simpul awal dan simpul tujuan,\n",
        "        atau None jika tidak ditemukan jalur.\n",
        "    \"\"\"\n",
        "\n",
        "    # Inisialisasi antrian dan himpunan node yang telah dikunjungi\n",
        "    queue = [[start]]\n",
        "    visited = set()\n",
        "\n",
        "    # Lakukan pencarian jalur terpendek\n",
        "    while queue:\n",
        "        path = queue.pop(0)\n",
        "        node = path[-1]\n",
        "\n",
        "        # Jika simpul yang dikunjungi sama dengan simpul tujuan, kembalikan jalur\n",
        "        if node == goal:\n",
        "            return path\n",
        "        \n",
        "        # Tambahkan simpul yang bertetanggaan dengan simpul yang sedang dikunjungi ke antrian\n",
        "        # jika simpul tersebut belum dikunjungi sebelumnya\n",
        "        if node not in visited:\n",
        "            for neighbor in graph[node]:\n",
        "                new_path = list(path)\n",
        "                new_path.append(neighbor)\n",
        "                queue.append(new_path)\n",
        "                \n",
        "            visited.add(node)\n",
        "            \n",
        "    # Jika tidak ditemukan jalur, kembalikan None\n",
        "    return None\n",
        "\n",
        "# Contoh penggunaan program\n",
        "graph = {\n",
        "    0: [1, 3, 4],\n",
        "    1: [0, 2, 3],\n",
        "    2: [1, 3],\n",
        "    3: [0, 1, 2, 4],\n",
        "    4: [0, 3],\n",
        "}\n",
        "\n",
        "start = 0\n",
        "goal = 2\n",
        "\n",
        "result = blind_search(start, goal, graph)\n",
        "\n",
        "# Cek apakah ditemukan jalur atau tidak\n",
        "if result is None:\n",
        "    print(\"Tidak ada jalur yang ditemukan.\")\n",
        "else:\n",
        "    print(\"Jalur terpendek dari\", start, \"ke\", goal, \"adalah:\", result)"
      ],
      "metadata": {
        "colab": {
          "base_uri": "https://localhost:8080/"
        },
        "id": "kpdhlO5BqAr9",
        "outputId": "34337805-faa2-4dbb-e109-5c093fda1611"
      },
      "execution_count": 14,
      "outputs": [
        {
          "output_type": "stream",
          "name": "stdout",
          "text": [
            "Jalur terpendek dari 0 ke 2 adalah: [0, 1, 2]\n"
          ]
        }
      ]
    }
  ]
}